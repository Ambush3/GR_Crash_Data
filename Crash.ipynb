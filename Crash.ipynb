{
 "cells": [
  {
   "cell_type": "code",
   "execution_count": 39,
   "metadata": {
    "collapsed": true,
    "pycharm": {
     "name": "#%% import libraries\n"
    }
   },
   "outputs": [],
   "source": [
    "import pandas as pd\n",
    "import matplotlib.pyplot as plt\n",
    "import seaborn as sns\n",
    "import folium\n",
    "from folium.plugins import MarkerCluster\n",
    "import numpy as np\n",
    "import warnings\n",
    "warnings.filterwarnings('ignore')\n",
    "sns.set()\n",
    "%matplotlib inline\n"
   ]
  },
  {
   "cell_type": "code",
   "execution_count": 40,
   "outputs": [
    {
     "data": {
      "text/plain": "               X          Y BIKE   CRASHDATE        CRASHTYPE  DAYOFMONTH  \\\n0     -85.650003  42.919854   No  2008/06/16          Backing          16   \n1     -85.625665  42.924710   No  2008/08/30     Fixed Object          30   \n2     -85.655282  43.000972   No  2008/02/13   Other Driveway          13   \n3     -85.643314  42.928172   No  2008/01/25   Angle Straight          25   \n4     -85.665571  42.968854   No  2008/09/26          Backing          26   \n...          ...        ...  ...         ...              ...         ...   \n74304 -85.688410  42.997895   No  2017/03/20   Other Driveway          20   \n74305 -85.661670  42.941360   No  2017/11/18       Pedestrian          18   \n74306 -85.661243  42.939724   No  2017/06/02  Side-Swipe Same           2   \n74307 -85.584837  42.971042   No  2017/08/23       Pedestrian          23   \n74308 -85.676419  42.984836   No  2017/03/18   Angle Straight          18   \n\n       DAYOFWEEK D1DRINKIN  DRIVER1AGE DRIVER1SEX   INTERNAME       LIGHTING  \\\n0         Monday        No          31          M       ALGER       Daylight   \n1       Saturday        No         999          M    ROSEWOOD       Daylight   \n2      Wednesday        No         999          U  PLAINFIELD       Daylight   \n3         Friday        No          23          M     ARDMORE           Dusk   \n4         Friday        No          37          M      RANSOM       Daylight   \n...          ...       ...         ...        ...         ...            ...   \n74304     Monday        No          62          M     PANNELL       Daylight   \n74305   Saturday        No          59          M   LAFAYETTE  Dark, Lighted   \n74306     Friday        No          19          M      GARDEN       Daylight   \n74307  Wednesday       Yes          34          F  TWIN LAKES       Daylight   \n74308   Saturday        No          54          M     LEONARD       Daylight   \n\n      HITANDRUN  HOUR      MONTH MOTORCYCLE     PRNAME  YEAR SURFCOND  \\\n0            No     8       June         No     LINDEN  2008      Dry   \n1           Yes    15     August         No     LOUISE  2008      Dry   \n2           Yes     8   February         No      JULIA  2008    Snowy   \n3            No    17    January         No      BLAIM  2008    Slush   \n4            No    17  September         No    CRESENT  2008      Dry   \n...         ...   ...        ...        ...        ...   ...      ...   \n74304        No    16      March         No     ALPINE  2017      Dry   \n74305        No    18   November         No       HALL  2017      Wet   \n74306        No    19       June        Yes  LAFAYETTE  2017      Dry   \n74307        No    19     August         No   MICHIGAN  2017      Dry   \n74308        No    18      March         No   SCRIBNER  2017      Dry   \n\n       SPEEDLIMIT  \n0              25  \n1              25  \n2              25  \n3              25  \n4              25  \n...           ...  \n74304          30  \n74305          30  \n74306          25  \n74307          25  \n74308          30  \n\n[74309 rows x 20 columns]",
      "text/html": "<div>\n<style scoped>\n    .dataframe tbody tr th:only-of-type {\n        vertical-align: middle;\n    }\n\n    .dataframe tbody tr th {\n        vertical-align: top;\n    }\n\n    .dataframe thead th {\n        text-align: right;\n    }\n</style>\n<table border=\"1\" class=\"dataframe\">\n  <thead>\n    <tr style=\"text-align: right;\">\n      <th></th>\n      <th>X</th>\n      <th>Y</th>\n      <th>BIKE</th>\n      <th>CRASHDATE</th>\n      <th>CRASHTYPE</th>\n      <th>DAYOFMONTH</th>\n      <th>DAYOFWEEK</th>\n      <th>D1DRINKIN</th>\n      <th>DRIVER1AGE</th>\n      <th>DRIVER1SEX</th>\n      <th>INTERNAME</th>\n      <th>LIGHTING</th>\n      <th>HITANDRUN</th>\n      <th>HOUR</th>\n      <th>MONTH</th>\n      <th>MOTORCYCLE</th>\n      <th>PRNAME</th>\n      <th>YEAR</th>\n      <th>SURFCOND</th>\n      <th>SPEEDLIMIT</th>\n    </tr>\n  </thead>\n  <tbody>\n    <tr>\n      <th>0</th>\n      <td>-85.650003</td>\n      <td>42.919854</td>\n      <td>No</td>\n      <td>2008/06/16</td>\n      <td>Backing</td>\n      <td>16</td>\n      <td>Monday</td>\n      <td>No</td>\n      <td>31</td>\n      <td>M</td>\n      <td>ALGER</td>\n      <td>Daylight</td>\n      <td>No</td>\n      <td>8</td>\n      <td>June</td>\n      <td>No</td>\n      <td>LINDEN</td>\n      <td>2008</td>\n      <td>Dry</td>\n      <td>25</td>\n    </tr>\n    <tr>\n      <th>1</th>\n      <td>-85.625665</td>\n      <td>42.924710</td>\n      <td>No</td>\n      <td>2008/08/30</td>\n      <td>Fixed Object</td>\n      <td>30</td>\n      <td>Saturday</td>\n      <td>No</td>\n      <td>999</td>\n      <td>M</td>\n      <td>ROSEWOOD</td>\n      <td>Daylight</td>\n      <td>Yes</td>\n      <td>15</td>\n      <td>August</td>\n      <td>No</td>\n      <td>LOUISE</td>\n      <td>2008</td>\n      <td>Dry</td>\n      <td>25</td>\n    </tr>\n    <tr>\n      <th>2</th>\n      <td>-85.655282</td>\n      <td>43.000972</td>\n      <td>No</td>\n      <td>2008/02/13</td>\n      <td>Other Driveway</td>\n      <td>13</td>\n      <td>Wednesday</td>\n      <td>No</td>\n      <td>999</td>\n      <td>U</td>\n      <td>PLAINFIELD</td>\n      <td>Daylight</td>\n      <td>Yes</td>\n      <td>8</td>\n      <td>February</td>\n      <td>No</td>\n      <td>JULIA</td>\n      <td>2008</td>\n      <td>Snowy</td>\n      <td>25</td>\n    </tr>\n    <tr>\n      <th>3</th>\n      <td>-85.643314</td>\n      <td>42.928172</td>\n      <td>No</td>\n      <td>2008/01/25</td>\n      <td>Angle Straight</td>\n      <td>25</td>\n      <td>Friday</td>\n      <td>No</td>\n      <td>23</td>\n      <td>M</td>\n      <td>ARDMORE</td>\n      <td>Dusk</td>\n      <td>No</td>\n      <td>17</td>\n      <td>January</td>\n      <td>No</td>\n      <td>BLAIM</td>\n      <td>2008</td>\n      <td>Slush</td>\n      <td>25</td>\n    </tr>\n    <tr>\n      <th>4</th>\n      <td>-85.665571</td>\n      <td>42.968854</td>\n      <td>No</td>\n      <td>2008/09/26</td>\n      <td>Backing</td>\n      <td>26</td>\n      <td>Friday</td>\n      <td>No</td>\n      <td>37</td>\n      <td>M</td>\n      <td>RANSOM</td>\n      <td>Daylight</td>\n      <td>No</td>\n      <td>17</td>\n      <td>September</td>\n      <td>No</td>\n      <td>CRESENT</td>\n      <td>2008</td>\n      <td>Dry</td>\n      <td>25</td>\n    </tr>\n    <tr>\n      <th>...</th>\n      <td>...</td>\n      <td>...</td>\n      <td>...</td>\n      <td>...</td>\n      <td>...</td>\n      <td>...</td>\n      <td>...</td>\n      <td>...</td>\n      <td>...</td>\n      <td>...</td>\n      <td>...</td>\n      <td>...</td>\n      <td>...</td>\n      <td>...</td>\n      <td>...</td>\n      <td>...</td>\n      <td>...</td>\n      <td>...</td>\n      <td>...</td>\n      <td>...</td>\n    </tr>\n    <tr>\n      <th>74304</th>\n      <td>-85.688410</td>\n      <td>42.997895</td>\n      <td>No</td>\n      <td>2017/03/20</td>\n      <td>Other Driveway</td>\n      <td>20</td>\n      <td>Monday</td>\n      <td>No</td>\n      <td>62</td>\n      <td>M</td>\n      <td>PANNELL</td>\n      <td>Daylight</td>\n      <td>No</td>\n      <td>16</td>\n      <td>March</td>\n      <td>No</td>\n      <td>ALPINE</td>\n      <td>2017</td>\n      <td>Dry</td>\n      <td>30</td>\n    </tr>\n    <tr>\n      <th>74305</th>\n      <td>-85.661670</td>\n      <td>42.941360</td>\n      <td>No</td>\n      <td>2017/11/18</td>\n      <td>Pedestrian</td>\n      <td>18</td>\n      <td>Saturday</td>\n      <td>No</td>\n      <td>59</td>\n      <td>M</td>\n      <td>LAFAYETTE</td>\n      <td>Dark, Lighted</td>\n      <td>No</td>\n      <td>18</td>\n      <td>November</td>\n      <td>No</td>\n      <td>HALL</td>\n      <td>2017</td>\n      <td>Wet</td>\n      <td>30</td>\n    </tr>\n    <tr>\n      <th>74306</th>\n      <td>-85.661243</td>\n      <td>42.939724</td>\n      <td>No</td>\n      <td>2017/06/02</td>\n      <td>Side-Swipe Same</td>\n      <td>2</td>\n      <td>Friday</td>\n      <td>No</td>\n      <td>19</td>\n      <td>M</td>\n      <td>GARDEN</td>\n      <td>Daylight</td>\n      <td>No</td>\n      <td>19</td>\n      <td>June</td>\n      <td>Yes</td>\n      <td>LAFAYETTE</td>\n      <td>2017</td>\n      <td>Dry</td>\n      <td>25</td>\n    </tr>\n    <tr>\n      <th>74307</th>\n      <td>-85.584837</td>\n      <td>42.971042</td>\n      <td>No</td>\n      <td>2017/08/23</td>\n      <td>Pedestrian</td>\n      <td>23</td>\n      <td>Wednesday</td>\n      <td>Yes</td>\n      <td>34</td>\n      <td>F</td>\n      <td>TWIN LAKES</td>\n      <td>Daylight</td>\n      <td>No</td>\n      <td>19</td>\n      <td>August</td>\n      <td>No</td>\n      <td>MICHIGAN</td>\n      <td>2017</td>\n      <td>Dry</td>\n      <td>25</td>\n    </tr>\n    <tr>\n      <th>74308</th>\n      <td>-85.676419</td>\n      <td>42.984836</td>\n      <td>No</td>\n      <td>2017/03/18</td>\n      <td>Angle Straight</td>\n      <td>18</td>\n      <td>Saturday</td>\n      <td>No</td>\n      <td>54</td>\n      <td>M</td>\n      <td>LEONARD</td>\n      <td>Daylight</td>\n      <td>No</td>\n      <td>18</td>\n      <td>March</td>\n      <td>No</td>\n      <td>SCRIBNER</td>\n      <td>2017</td>\n      <td>Dry</td>\n      <td>30</td>\n    </tr>\n  </tbody>\n</table>\n<p>74309 rows × 20 columns</p>\n</div>"
     },
     "execution_count": 40,
     "metadata": {},
     "output_type": "execute_result"
    }
   ],
   "source": [
    "csv_file = 'F:\\PyCharm\\Data Visualization\\GR_Crash_Data\\CGR_Crash_Data.csv'\n",
    "df = pd.read_csv(csv_file)\n",
    "df = df[['X', 'Y', 'BIKE', 'CRASHDATE', 'CRASHTYPE', 'DAYOFMONTH', 'DAYOFWEEK', 'D1DRINKIN',\n",
    "         'DRIVER1AGE', 'DRIVER1SEX', 'INTERNAME', 'LIGHTING', 'HITANDRUN', 'HOUR', 'MONTH',\n",
    "         'MOTORCYCLE', 'PRNAME', 'YEAR', 'SURFCOND', 'SPEEDLIMIT']]\n",
    "df\n"
   ],
   "metadata": {
    "collapsed": false,
    "pycharm": {
     "name": "#%%\n"
    }
   }
  },
  {
   "cell_type": "code",
   "execution_count": 41,
   "outputs": [
    {
     "name": "stdout",
     "output_type": "stream",
     "text": [
      "<class 'pandas.core.frame.DataFrame'>\n",
      "RangeIndex: 74309 entries, 0 to 74308\n",
      "Data columns (total 20 columns):\n",
      " #   Column      Non-Null Count  Dtype  \n",
      "---  ------      --------------  -----  \n",
      " 0   X           74309 non-null  float64\n",
      " 1   Y           74309 non-null  float64\n",
      " 2   BIKE        74309 non-null  object \n",
      " 3   CRASHDATE   74309 non-null  object \n",
      " 4   CRASHTYPE   74309 non-null  object \n",
      " 5   DAYOFMONTH  74309 non-null  int64  \n",
      " 6   DAYOFWEEK   74309 non-null  object \n",
      " 7   D1DRINKIN   74309 non-null  object \n",
      " 8   DRIVER1AGE  74309 non-null  int64  \n",
      " 9   DRIVER1SEX  74309 non-null  object \n",
      " 10  INTERNAME   74309 non-null  object \n",
      " 11  LIGHTING    74309 non-null  object \n",
      " 12  HITANDRUN   74309 non-null  object \n",
      " 13  HOUR        74309 non-null  int64  \n",
      " 14  MONTH       74309 non-null  object \n",
      " 15  MOTORCYCLE  74309 non-null  object \n",
      " 16  PRNAME      74309 non-null  object \n",
      " 17  YEAR        74309 non-null  int64  \n",
      " 18  SURFCOND    74309 non-null  object \n",
      " 19  SPEEDLIMIT  74309 non-null  int64  \n",
      "dtypes: float64(2), int64(5), object(13)\n",
      "memory usage: 11.3+ MB\n"
     ]
    }
   ],
   "source": [
    "df.info()\n"
   ],
   "metadata": {
    "collapsed": false,
    "pycharm": {
     "name": "#%%\n"
    }
   }
  },
  {
   "cell_type": "code",
   "execution_count": 48,
   "outputs": [
    {
     "ename": "ValueError",
     "evalue": "Location should consist of two numerical values, but 0             ALGER\n1          ROSEWOOD\n2        PLAINFIELD\n3           ARDMORE\n4            RANSOM\n            ...    \n74304       PANNELL\n74305     LAFAYETTE\n74306        GARDEN\n74307    TWIN LAKES\n74308       LEONARD\nName: INTERNAME, Length: 74309, dtype: object of type <class 'pandas.core.series.Series'> is not convertible to float.",
     "output_type": "error",
     "traceback": [
      "\u001B[1;31m---------------------------------------------------------------------------\u001B[0m",
      "\u001B[1;31mTypeError\u001B[0m                                 Traceback (most recent call last)",
      "\u001B[1;32mL:\\Anaconda3\\lib\\site-packages\\folium\\utilities.py\u001B[0m in \u001B[0;36mvalidate_location\u001B[1;34m(location)\u001B[0m\n\u001B[0;32m     59\u001B[0m         \u001B[1;32mtry\u001B[0m\u001B[1;33m:\u001B[0m\u001B[1;33m\u001B[0m\u001B[1;33m\u001B[0m\u001B[0m\n\u001B[1;32m---> 60\u001B[1;33m             \u001B[0mfloat\u001B[0m\u001B[1;33m(\u001B[0m\u001B[0mcoord\u001B[0m\u001B[1;33m)\u001B[0m\u001B[1;33m\u001B[0m\u001B[1;33m\u001B[0m\u001B[0m\n\u001B[0m\u001B[0;32m     61\u001B[0m         \u001B[1;32mexcept\u001B[0m \u001B[1;33m(\u001B[0m\u001B[0mTypeError\u001B[0m\u001B[1;33m,\u001B[0m \u001B[0mValueError\u001B[0m\u001B[1;33m)\u001B[0m\u001B[1;33m:\u001B[0m\u001B[1;33m\u001B[0m\u001B[1;33m\u001B[0m\u001B[0m\n",
      "\u001B[1;32mL:\\Anaconda3\\lib\\site-packages\\pandas\\core\\series.py\u001B[0m in \u001B[0;36mwrapper\u001B[1;34m(self)\u001B[0m\n\u001B[0;32m    140\u001B[0m             \u001B[1;32mreturn\u001B[0m \u001B[0mconverter\u001B[0m\u001B[1;33m(\u001B[0m\u001B[0mself\u001B[0m\u001B[1;33m.\u001B[0m\u001B[0miloc\u001B[0m\u001B[1;33m[\u001B[0m\u001B[1;36m0\u001B[0m\u001B[1;33m]\u001B[0m\u001B[1;33m)\u001B[0m\u001B[1;33m\u001B[0m\u001B[1;33m\u001B[0m\u001B[0m\n\u001B[1;32m--> 141\u001B[1;33m         \u001B[1;32mraise\u001B[0m \u001B[0mTypeError\u001B[0m\u001B[1;33m(\u001B[0m\u001B[1;34mf\"cannot convert the series to {converter}\"\u001B[0m\u001B[1;33m)\u001B[0m\u001B[1;33m\u001B[0m\u001B[1;33m\u001B[0m\u001B[0m\n\u001B[0m\u001B[0;32m    142\u001B[0m \u001B[1;33m\u001B[0m\u001B[0m\n",
      "\u001B[1;31mTypeError\u001B[0m: cannot convert the series to <class 'float'>",
      "\nDuring handling of the above exception, another exception occurred:\n",
      "\u001B[1;31mValueError\u001B[0m                                Traceback (most recent call last)",
      "\u001B[1;32m<ipython-input-48-60d06ddece8d>\u001B[0m in \u001B[0;36m<module>\u001B[1;34m\u001B[0m\n\u001B[1;32m----> 1\u001B[1;33m map = folium.Map(location=[df['INTERNAME'],\n\u001B[0m\u001B[0;32m      2\u001B[0m                            df['PRNAME']],\n\u001B[0;32m      3\u001B[0m                  zoom_start=4)\n\u001B[0;32m      4\u001B[0m \u001B[1;33m\u001B[0m\u001B[0m\n\u001B[0;32m      5\u001B[0m \u001B[0mmc\u001B[0m \u001B[1;33m=\u001B[0m \u001B[0mMarkerCluster\u001B[0m\u001B[1;33m(\u001B[0m\u001B[1;33m)\u001B[0m\u001B[1;33m\u001B[0m\u001B[1;33m\u001B[0m\u001B[0m\n",
      "\u001B[1;32mL:\\Anaconda3\\lib\\site-packages\\folium\\folium.py\u001B[0m in \u001B[0;36m__init__\u001B[1;34m(self, location, width, height, left, top, position, tiles, attr, min_zoom, max_zoom, zoom_start, min_lat, max_lat, min_lon, max_lon, max_bounds, crs, control_scale, prefer_canvas, no_touch, disable_3d, png_enabled, zoom_control, **kwargs)\u001B[0m\n\u001B[0;32m    253\u001B[0m             \u001B[0mzoom_start\u001B[0m \u001B[1;33m=\u001B[0m \u001B[1;36m1\u001B[0m\u001B[1;33m\u001B[0m\u001B[1;33m\u001B[0m\u001B[0m\n\u001B[0;32m    254\u001B[0m         \u001B[1;32melse\u001B[0m\u001B[1;33m:\u001B[0m\u001B[1;33m\u001B[0m\u001B[1;33m\u001B[0m\u001B[0m\n\u001B[1;32m--> 255\u001B[1;33m             \u001B[0mself\u001B[0m\u001B[1;33m.\u001B[0m\u001B[0mlocation\u001B[0m \u001B[1;33m=\u001B[0m \u001B[0mvalidate_location\u001B[0m\u001B[1;33m(\u001B[0m\u001B[0mlocation\u001B[0m\u001B[1;33m)\u001B[0m\u001B[1;33m\u001B[0m\u001B[1;33m\u001B[0m\u001B[0m\n\u001B[0m\u001B[0;32m    256\u001B[0m \u001B[1;33m\u001B[0m\u001B[0m\n\u001B[0;32m    257\u001B[0m         \u001B[0mFigure\u001B[0m\u001B[1;33m(\u001B[0m\u001B[1;33m)\u001B[0m\u001B[1;33m.\u001B[0m\u001B[0madd_child\u001B[0m\u001B[1;33m(\u001B[0m\u001B[0mself\u001B[0m\u001B[1;33m)\u001B[0m\u001B[1;33m\u001B[0m\u001B[1;33m\u001B[0m\u001B[0m\n",
      "\u001B[1;32mL:\\Anaconda3\\lib\\site-packages\\folium\\utilities.py\u001B[0m in \u001B[0;36mvalidate_location\u001B[1;34m(location)\u001B[0m\n\u001B[0;32m     60\u001B[0m             \u001B[0mfloat\u001B[0m\u001B[1;33m(\u001B[0m\u001B[0mcoord\u001B[0m\u001B[1;33m)\u001B[0m\u001B[1;33m\u001B[0m\u001B[1;33m\u001B[0m\u001B[0m\n\u001B[0;32m     61\u001B[0m         \u001B[1;32mexcept\u001B[0m \u001B[1;33m(\u001B[0m\u001B[0mTypeError\u001B[0m\u001B[1;33m,\u001B[0m \u001B[0mValueError\u001B[0m\u001B[1;33m)\u001B[0m\u001B[1;33m:\u001B[0m\u001B[1;33m\u001B[0m\u001B[1;33m\u001B[0m\u001B[0m\n\u001B[1;32m---> 62\u001B[1;33m             raise ValueError('Location should consist of two numerical values, '\n\u001B[0m\u001B[0;32m     63\u001B[0m                              \u001B[1;34m'but {!r} of type {} is not convertible to float.'\u001B[0m\u001B[1;33m\u001B[0m\u001B[1;33m\u001B[0m\u001B[0m\n\u001B[0;32m     64\u001B[0m                              .format(coord, type(coord)))\n",
      "\u001B[1;31mValueError\u001B[0m: Location should consist of two numerical values, but 0             ALGER\n1          ROSEWOOD\n2        PLAINFIELD\n3           ARDMORE\n4            RANSOM\n            ...    \n74304       PANNELL\n74305     LAFAYETTE\n74306        GARDEN\n74307    TWIN LAKES\n74308       LEONARD\nName: INTERNAME, Length: 74309, dtype: object of type <class 'pandas.core.series.Series'> is not convertible to float."
     ]
    }
   ],
   "source": [
    "map = folium.Map(location=[df['INTERNAME'],\n",
    "                           df['PRNAME']],\n",
    "                 zoom_start=4)\n",
    "\n",
    "mc = MarkerCluster()\n",
    "\n",
    "for row in df.itertuples():\n",
    "    mc.add_child(folium.Marker(location=[row.INTERNAME, row.PRNAME]))\n",
    "map"
   ],
   "metadata": {
    "collapsed": false,
    "pycharm": {
     "name": "#%%\n"
    }
   }
  }
 ],
 "metadata": {
  "kernelspec": {
   "display_name": "Python 3",
   "language": "python",
   "name": "python3"
  },
  "language_info": {
   "codemirror_mode": {
    "name": "ipython",
    "version": 2
   },
   "file_extension": ".py",
   "mimetype": "text/x-python",
   "name": "python",
   "nbconvert_exporter": "python",
   "pygments_lexer": "ipython2",
   "version": "2.7.6"
  }
 },
 "nbformat": 4,
 "nbformat_minor": 0
}